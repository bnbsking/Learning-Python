{
 "cells": [
  {
   "cell_type": "code",
   "execution_count": null,
   "metadata": {},
   "outputs": [],
   "source": [
    "# find i^th largest element in O(n)\n",
    "from random import shuffle\n",
    "L = list(range(10))+list(range(5))\n",
    "shuffle(L)\n",
    "print(sorted(L))\n",
    "\n",
    "def f(i,L):\n",
    "    if len(L)==1:\n",
    "        return L[0]\n",
    "    small, mid, big = [], [], []\n",
    "    for x in L:\n",
    "        if x<L[0]:\n",
    "            small.append(x)\n",
    "        elif x==L[0]:\n",
    "            mid.append(x)\n",
    "        else:\n",
    "            big.append(x)\n",
    "    if len(small)<i:\n",
    "        return f(i-len(small)-1,mid[1:]+big)\n",
    "    elif len(small)==i:\n",
    "        return L[0]\n",
    "    else:\n",
    "        return f(i,small)\n",
    "    \n",
    "print(f(2,L))"
   ]
  },
  {
   "cell_type": "code",
   "execution_count": 2,
   "metadata": {},
   "outputs": [
    {
     "name": "stdout",
     "output_type": "stream",
     "text": [
      "4\n"
     ]
    }
   ],
   "source": [
    "s = 'apcapapca'\n",
    "\n",
    "lcps = 0\n",
    "for i in range(1,len(s)):\n",
    "    if s[lcps]==s[i]:\n",
    "        lcps+=1\n",
    "print(lcps)"
   ]
  },
  {
   "cell_type": "code",
   "execution_count": 52,
   "metadata": {},
   "outputs": [
    {
     "name": "stdout",
     "output_type": "stream",
     "text": [
      "S 0\n",
      "E 32315 32315 32314 \n",
      "\n"
     ]
    },
    {
     "data": {
      "text/plain": [
       "-1"
      ]
     },
     "execution_count": 52,
     "metadata": {},
     "output_type": "execute_result"
    }
   ],
   "source": [
    "haystack, needle = \"ippi\", \"pi\"\n",
    "haystack, needle = \"mississippi\", \"issip\"\n",
    "haystack, needle = \"abababadef\", \"abababz\"\n",
    "haystack, needle = \"a\"*32316, \"a\"*32315+\"b\"\n",
    "\n",
    "def f(haystack, needle):\n",
    "    if not needle:\n",
    "        return 0\n",
    "    \n",
    "    i = 0\n",
    "    while len(haystack)-i>=len(needle):\n",
    "        j = 0\n",
    "        print('S', i)\n",
    "        lcps = 0\n",
    "        while i<len(haystack) and j<len(needle) and haystack[i]==needle[j]:\n",
    "            if j>0 and haystack[i-j+lcps]==haystack[i]:\n",
    "                lcps+=1\n",
    "            i=i+1\n",
    "            j=j+1\n",
    "        print('E', i, j, lcps, '\\n')\n",
    "\n",
    "        if j==len(needle):\n",
    "            return i-j\n",
    "\n",
    "        if j==0:\n",
    "            i = i+1\n",
    "        else:\n",
    "            i = i-lcps\n",
    "\n",
    "    return -1\n",
    "\n",
    "f(haystack, needle)"
   ]
  },
  {
   "cell_type": "code",
   "execution_count": null,
   "metadata": {},
   "outputs": [],
   "source": [
    "# ababcd\n",
    "# ababce\n",
    "\n",
    "# ababcd\n",
    "# ababe"
   ]
  },
  {
   "cell_type": "code",
   "execution_count": null,
   "metadata": {},
   "outputs": [],
   "source": []
  },
  {
   "cell_type": "code",
   "execution_count": null,
   "metadata": {},
   "outputs": [],
   "source": []
  }
 ],
 "metadata": {
  "kernelspec": {
   "display_name": "Python 3",
   "language": "python",
   "name": "python3"
  },
  "language_info": {
   "codemirror_mode": {
    "name": "ipython",
    "version": 3
   },
   "file_extension": ".py",
   "mimetype": "text/x-python",
   "name": "python",
   "nbconvert_exporter": "python",
   "pygments_lexer": "ipython3",
   "version": "3.7.7"
  }
 },
 "nbformat": 4,
 "nbformat_minor": 4
}
