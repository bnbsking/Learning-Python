{
 "cells": [
  {
   "cell_type": "code",
   "execution_count": null,
   "id": "legendary-yellow",
   "metadata": {},
   "outputs": [],
   "source": [
    "M = [\n",
    "    [\"X\", \"X\", \"X\", \"X\", \"X\"],\n",
    "    [\"X\", \".\", \".\", \".\", \"X\"],\n",
    "    [\"X\", \".\", \"X\", \"T\", \"X\"],\n",
    "    [\"X\", \".\", \"X\", \"X\", \"X\"],\n",
    "    [\"X\", \".\", \".\", \".\", \"X\"],\n",
    "    [\"X\", \".\", \"X\", \"X\", \"X\"],\n",
    "    ]\n",
    "\n",
    "path = []\n",
    "\n",
    "def maze(M):\n",
    "    ei, ej = findEntrance(M)\n",
    "    print('Entrance', ei, ej)\n",
    "    return f(ei, ej, [])\n",
    "    \n",
    "def findEntrance(M):\n",
    "    for i in range(len(M)):\n",
    "        if M[i][0]=='.':\n",
    "            return i, 0\n",
    "        elif M[i][-1]=='.':\n",
    "            return i, len(M[0])-1\n",
    "    for j in range(len(M[0])):\n",
    "        if M[0][j]=='.':\n",
    "            return 0, j\n",
    "        elif M[-1][j]=='.':\n",
    "            return len(M)-1, j\n",
    "            \n",
    "def f(i, j, path):\n",
    "    #print(i,j)\n",
    "    global M, ans\n",
    "    M[i][j] = 'B'\n",
    "    if j>0:\n",
    "        if M[i][j-1]=='.':\n",
    "            f(i,j-1,path+['left'])\n",
    "        elif M[i][j-1]=='T':\n",
    "            ans = path+['left']\n",
    "    if j<len(M)-1:\n",
    "        if M[i][j+1]=='.':\n",
    "            f(i,j+1,path+['right'])\n",
    "        elif M[i][j+1]=='T':\n",
    "            ans = path+['right']\n",
    "    if i>0:\n",
    "        if M[i-1][j]=='.':\n",
    "            f(i-1,j,path+['up'])\n",
    "        elif M[i-1][j]=='T':\n",
    "            ans = path+['up']\n",
    "    if i<len(M)-1:\n",
    "        if M[i+1][j]=='.':\n",
    "            f(i+1,j,path+['down'])\n",
    "        elif M[i+1][j]=='T':\n",
    "            ans = path+['down']\n",
    "\n",
    "maze(M)\n",
    "print(ans)"
   ]
  },
  {
   "cell_type": "code",
   "execution_count": null,
   "id": "greek-married",
   "metadata": {},
   "outputs": [],
   "source": [
    "M = [\n",
    "    [\"1\", \"2\", \"3\"],\n",
    "    [\"4\", \"5\", \"6\"],\n",
    "    [\"7\", \"8\", \"9\"],\n",
    "    ]\n",
    "\n",
    "def dfs(i=0,j=0):\n",
    "    print(M[i][j], end=' ')\n",
    "    M[i][j] = None\n",
    "    if j<len(M)-1 and M[i][j+1]:\n",
    "        dfs(i,j+1)\n",
    "    if i<len(M[0])-1 and M[i+1][j]:\n",
    "        dfs(i+1,j)\n",
    "    if j>0 and M[i][j-1]:\n",
    "        dfs(i,j-1)\n",
    "    if i>0 and M[i-1][j]:\n",
    "        dfs(i-1,j)\n",
    "\n",
    "dfs()   "
   ]
  },
  {
   "cell_type": "code",
   "execution_count": 4,
   "id": "apparent-austin",
   "metadata": {},
   "outputs": [
    {
     "name": "stdout",
     "output_type": "stream",
     "text": [
      "1 2 4 3 5 7 6 8 9 Hello\n"
     ]
    }
   ],
   "source": [
    "M = [\n",
    "    [\"1\", \"2\", \"3\"],\n",
    "    [\"4\", \"5\", \"6\"],\n",
    "    [\"7\", \"8\", \"9\"],\n",
    "    ]\n",
    "\n",
    "import queue\n",
    "\n",
    "def bfs(item=(0,0)):\n",
    "    Q = queue.Queue()\n",
    "    Q.put(item)\n",
    "    S = {item}   # Ever in queue\n",
    "    \n",
    "    while Q.qsize():\n",
    "        i, j = Q.get()\n",
    "        print(M[i][j], end=' ')\n",
    "        \n",
    "        if j<len(M)-1 and (i,j+1) not in S:\n",
    "            Q.put( (i,j+1) )\n",
    "            S.add( (i,j+1) )\n",
    "        if i<len(M[0])-1 and (i+1,j) not in S:\n",
    "            Q.put( (i+1,j) )\n",
    "            S.add( (i+1,j) )\n",
    "        if j>0 and (i,j-1) not in S:\n",
    "            Q.put( (i,j-1) )\n",
    "            S.add( (i,j-1) )\n",
    "        if i>0 and (i-1,j) not in S:\n",
    "            Q.put( (i-1,j) )\n",
    "            S.add( (i-1,j) )\n",
    "\n",
    "bfs()\n",
    "print('Hello')"
   ]
  },
  {
   "cell_type": "code",
   "execution_count": null,
   "id": "naughty-circulation",
   "metadata": {},
   "outputs": [],
   "source": [
    "import queue\n",
    "q = queue.Queue()\n",
    "print( q.empty() )\n",
    "print( q.qsize() )\n",
    "print( q.queue )\n",
    "\n",
    "q.put('a')\n",
    "q.put('b')\n",
    "q.get()"
   ]
  },
  {
   "cell_type": "markdown",
   "id": "injured-gazette",
   "metadata": {},
   "source": [
    "+ DFS: Write None when visit a new node, recursion without other data structure support\n",
    "+ BFS: Dequeue when visit a new node, iteration with queue and set for record ever in queue"
   ]
  },
  {
   "cell_type": "code",
   "execution_count": null,
   "id": "raised-alabama",
   "metadata": {},
   "outputs": [],
   "source": []
  }
 ],
 "metadata": {
  "kernelspec": {
   "display_name": "Python 3",
   "language": "python",
   "name": "python3"
  },
  "language_info": {
   "codemirror_mode": {
    "name": "ipython",
    "version": 3
   },
   "file_extension": ".py",
   "mimetype": "text/x-python",
   "name": "python",
   "nbconvert_exporter": "python",
   "pygments_lexer": "ipython3",
   "version": "3.7.6"
  }
 },
 "nbformat": 4,
 "nbformat_minor": 5
}
