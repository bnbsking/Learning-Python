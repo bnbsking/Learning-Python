{
 "cells": [
  {
   "cell_type": "code",
   "execution_count": 53,
   "id": "legendary-yellow",
   "metadata": {},
   "outputs": [
    {
     "name": "stdout",
     "output_type": "stream",
     "text": [
      "Entrance 5 1\n",
      "['up', 'up', 'up', 'up', 'right', 'right', 'down']\n"
     ]
    }
   ],
   "source": [
    "M = [\n",
    "    [\"X\", \"X\", \"X\", \"X\", \"X\"],\n",
    "    [\"X\", \".\", \".\", \".\", \"X\"],\n",
    "    [\"X\", \".\", \"X\", \"T\", \"X\"],\n",
    "    [\"X\", \".\", \"X\", \"X\", \"X\"],\n",
    "    [\"X\", \".\", \".\", \".\", \"X\"],\n",
    "    [\"X\", \".\", \"X\", \"X\", \"X\"],\n",
    "    ]\n",
    "\n",
    "path = []\n",
    "\n",
    "def maze(M):\n",
    "    ei, ej = findEntrance(M)\n",
    "    print('Entrance', ei, ej)\n",
    "    return f(ei, ej, [])\n",
    "    \n",
    "def findEntrance(M):\n",
    "    for i in range(len(M)):\n",
    "        if M[i][0]=='.':\n",
    "            return i, 0\n",
    "        elif M[i][-1]=='.':\n",
    "            return i, len(M[0])-1\n",
    "    for j in range(len(M[0])):\n",
    "        if M[0][j]=='.':\n",
    "            return 0, j\n",
    "        elif M[-1][j]=='.':\n",
    "            return len(M)-1, j\n",
    "            \n",
    "def f(i, j, path):\n",
    "    #print(i,j)\n",
    "    global M, ans\n",
    "    M[i][j] = 'B'\n",
    "    if j>0:\n",
    "        if M[i][j-1]=='.':\n",
    "            f(i,j-1,path+['left'])\n",
    "        elif M[i][j-1]=='T':\n",
    "            ans = path+['left']\n",
    "    if j<len(M)-1:\n",
    "        if M[i][j+1]=='.':\n",
    "            f(i,j+1,path+['right'])\n",
    "        elif M[i][j+1]=='T':\n",
    "            ans = path+['right']\n",
    "    if i>0:\n",
    "        if M[i-1][j]=='.':\n",
    "            f(i-1,j,path+['up'])\n",
    "        elif M[i-1][j]=='T':\n",
    "            ans = path+['up']\n",
    "    if i<len(M)-1:\n",
    "        if M[i+1][j]=='.':\n",
    "            f(i+1,j,path+['down'])\n",
    "        elif M[i+1][j]=='T':\n",
    "            ans = path+['down']\n",
    "\n",
    "maze(M)\n",
    "print(ans)"
   ]
  },
  {
   "cell_type": "code",
   "execution_count": null,
   "id": "greek-married",
   "metadata": {},
   "outputs": [],
   "source": []
  }
 ],
 "metadata": {
  "kernelspec": {
   "display_name": "Python 3",
   "language": "python",
   "name": "python3"
  },
  "language_info": {
   "codemirror_mode": {
    "name": "ipython",
    "version": 3
   },
   "file_extension": ".py",
   "mimetype": "text/x-python",
   "name": "python",
   "nbconvert_exporter": "python",
   "pygments_lexer": "ipython3",
   "version": "3.7.6"
  }
 },
 "nbformat": 4,
 "nbformat_minor": 5
}
