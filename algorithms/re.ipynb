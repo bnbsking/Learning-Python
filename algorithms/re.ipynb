{
 "cells": [
  {
   "cell_type": "code",
   "execution_count": 1,
   "metadata": {},
   "outputs": [],
   "source": [
    "import re"
   ]
  },
  {
   "cell_type": "code",
   "execution_count": 24,
   "metadata": {},
   "outputs": [],
   "source": [
    "# re.match(pattern, target).group()  # return 1 match string              start from first char\n",
    "# re.match(pattern, target).span()   # return 1 match string_index(tuple) start from first char \n",
    "\n",
    "# re.search(pattern, target).group() # return 1 match string              start from first char\n",
    "# re.search(pattern, target).span()  # return 1 match string index(tuple) start from first char\n",
    "\n",
    "# re.findall(pattern, target)        # return all match string in list\n",
    "\n",
    "# pattern: *:0~n times, +:1~n times, .:1 time, {n,m}:n~m times, [a-z]:a~z permutations"
   ]
  },
  {
   "cell_type": "code",
   "execution_count": 39,
   "metadata": {},
   "outputs": [
    {
     "name": "stdout",
     "output_type": "stream",
     "text": [
      "['aabb', '']\n",
      "['ab', '']\n",
      "['bab']\n",
      "['3', '2', '9', '3', '1']\n"
     ]
    }
   ],
   "source": [
    "print(re.findall('a*b*', 'aabb'))\n",
    "print(re.findall('(ab)*', 'abab'))\n",
    "print(re.findall('b.*', 'abab'))\n",
    "print(re.findall('[0-9]', 'afj3i293ubr1kjn'))"
   ]
  },
  {
   "cell_type": "code",
   "execution_count": null,
   "metadata": {},
   "outputs": [],
   "source": []
  }
 ],
 "metadata": {
  "kernelspec": {
   "display_name": "Python 3",
   "language": "python",
   "name": "python3"
  },
  "language_info": {
   "codemirror_mode": {
    "name": "ipython",
    "version": 3
   },
   "file_extension": ".py",
   "mimetype": "text/x-python",
   "name": "python",
   "nbconvert_exporter": "python",
   "pygments_lexer": "ipython3",
   "version": "3.7.7"
  }
 },
 "nbformat": 4,
 "nbformat_minor": 4
}
