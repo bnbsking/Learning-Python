{
 "cells": [
  {
   "cell_type": "code",
   "execution_count": 59,
   "metadata": {},
   "outputs": [],
   "source": [
    "class graph_traversal:\n",
    "    def __init__(self, A):\n",
    "        self.A = A\n",
    "        \n",
    "    def dfs(self):\n",
    "        self.L = []\n",
    "        self.f()\n",
    "        return self.L\n",
    "    def f(self, i=0, j=0):\n",
    "        self.L.append(A[i][j])\n",
    "        self.A[i][j] = -1\n",
    "        if i>0 and self.A[i-1][j]!=-1:\n",
    "            self.f(i-1,j)\n",
    "        if j<len(self.A[0])-1 and self.A[i][j+1]!=-1:\n",
    "            self.f(i,j+1)\n",
    "        if i<len(self.A)-1 and self.A[i+1][j]!=-1:\n",
    "            self.f(i+1,j)\n",
    "        if j>0 and self.A[i][j-1]!=-1:\n",
    "            self.f(i,j-1)\n",
    "            \n",
    "    def bfs(self):\n",
    "        from collections import deque\n",
    "        self.L, self.Q = [], deque()\n",
    "        self.Q.append((0,0))\n",
    "        self.g()\n",
    "        return self.L\n",
    "    def g(self):\n",
    "        if len(self.Q)!=0:\n",
    "            i, j = self.Q.popleft()\n",
    "            if self.A[i][j]!=-1:\n",
    "                self.L.append(A[i][j])\n",
    "            self.A[i][j]=-1\n",
    "\n",
    "            if i>0 and self.A[i-1][j]!=-1:\n",
    "                self.Q.append((i-1,j))\n",
    "            if j<len(self.A[0])-1 and self.A[i][j+1]!=-1:\n",
    "                self.Q.append((i,j+1))\n",
    "            if i<len(self.A)-1 and self.A[i+1][j]!=-1:\n",
    "                self.Q.append((i+1,j))\n",
    "            if j>0 and self.A[i][j-1]!=-1:\n",
    "                self.Q.append((i,j-1))\n",
    "            self.g()\n",
    "        \n",
    "    def dfs_stack(self):\n",
    "        self.L, self.S = [], []\n",
    "        self.S.append((0,0))\n",
    "        self.h()\n",
    "        return self.L\n",
    "    def h(self):\n",
    "        if self.S!=[]:\n",
    "            i, j = self.S.pop()\n",
    "            if self.A[i][j]!=-1:\n",
    "                self.L.append(A[i][j])\n",
    "            self.A[i][j]=-1\n",
    "            \n",
    "            if i>0 and self.A[i-1][j]!=-1:\n",
    "                self.S.append((i-1,j))\n",
    "            if j<len(self.A[0])-1 and self.A[i][j+1]!=-1:\n",
    "                self.S.append((i,j+1))\n",
    "            if i<len(self.A)-1 and self.A[i+1][j]!=-1:\n",
    "                self.S.append((i+1,j))\n",
    "            if j>0 and self.A[i][j-1]!=-1:\n",
    "                self.S.append((i,j-1))\n",
    "            self.h()"
   ]
  },
  {
   "cell_type": "code",
   "execution_count": 60,
   "metadata": {},
   "outputs": [
    {
     "name": "stdout",
     "output_type": "stream",
     "text": [
      "[1, 2, 3]\n",
      "[4, 5, 6]\n",
      "[7, 8, 9]\n",
      "[1, 2, 3, 6, 9, 8, 5, 4, 7]\n",
      "[1, 2, 4, 3, 5, 7, 6, 8, 9]\n",
      "[1, 4, 7, 8, 9, 6, 5, 2, 3]\n"
     ]
    }
   ],
   "source": [
    "A = [[1,2,3], [4,5,6], [7,8,9]]\n",
    "for row in A:\n",
    "    print(row)\n",
    "\n",
    "G = graph_traversal(A)\n",
    "print(G.dfs())\n",
    "\n",
    "A = [[1,2,3], [4,5,6], [7,8,9]]\n",
    "G = graph_traversal(A)\n",
    "print(G.bfs())\n",
    "\n",
    "A = [[1,2,3], [4,5,6], [7,8,9]]\n",
    "G = graph_traversal(A)\n",
    "print(G.dfs_stack())"
   ]
  },
  {
   "cell_type": "code",
   "execution_count": null,
   "metadata": {},
   "outputs": [],
   "source": []
  },
  {
   "cell_type": "code",
   "execution_count": null,
   "metadata": {},
   "outputs": [],
   "source": []
  }
 ],
 "metadata": {
  "kernelspec": {
   "display_name": "Python 3",
   "language": "python",
   "name": "python3"
  },
  "language_info": {
   "codemirror_mode": {
    "name": "ipython",
    "version": 3
   },
   "file_extension": ".py",
   "mimetype": "text/x-python",
   "name": "python",
   "nbconvert_exporter": "python",
   "pygments_lexer": "ipython3",
   "version": "3.7.7"
  }
 },
 "nbformat": 4,
 "nbformat_minor": 4
}
