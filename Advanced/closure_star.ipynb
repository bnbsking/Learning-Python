{
 "cells": [
  {
   "cell_type": "code",
   "execution_count": 1,
   "metadata": {},
   "outputs": [
    {
     "name": "stdout",
     "output_type": "stream",
     "text": [
      "5\n"
     ]
    }
   ],
   "source": [
    "from threading import Thread\n",
    "def wrap(x):\n",
    "    def f(): # 不可有input 除非可接受wrap(x)(input)\n",
    "        print(x)\n",
    "    return f\n",
    "t = Thread(target=wrap(5))\n",
    "t.start()"
   ]
  },
  {
   "cell_type": "code",
   "execution_count": 2,
   "metadata": {},
   "outputs": [
    {
     "name": "stdout",
     "output_type": "stream",
     "text": [
      "6\n"
     ]
    }
   ],
   "source": [
    "def decorator(f):\n",
    "    return f\n",
    "\n",
    "@decorator\n",
    "def f(x):\n",
    "    print(x)\n",
    "\n",
    "t2 = Thread(target=f(6))\n",
    "t2.start()"
   ]
  },
  {
   "cell_type": "code",
   "execution_count": 4,
   "metadata": {},
   "outputs": [
    {
     "name": "stdout",
     "output_type": "stream",
     "text": [
      "7\n"
     ]
    }
   ],
   "source": [
    "def f(x):\n",
    "    print(x)\n",
    "t3 = Thread(target=lambda:f(7))\n",
    "t3.start()"
   ]
  },
  {
   "cell_type": "code",
   "execution_count": 6,
   "metadata": {},
   "outputs": [
    {
     "name": "stdout",
     "output_type": "stream",
     "text": [
      "8\n"
     ]
    }
   ],
   "source": [
    "def f(x):\n",
    "    print(x)\n",
    "t4 = Thread(target=f, args=(8,))\n",
    "t4.start()"
   ]
  },
  {
   "cell_type": "code",
   "execution_count": null,
   "metadata": {},
   "outputs": [],
   "source": []
  },
  {
   "cell_type": "code",
   "execution_count": 25,
   "metadata": {},
   "outputs": [
    {
     "name": "stdout",
     "output_type": "stream",
     "text": [
      "1 2 (3, 4, 5)\n",
      "1 2 3 4 5\n",
      "1 2 {'apple': 3, 'banana': 4, 'guava': 7}\n",
      "1 2 apple banana guava\n"
     ]
    }
   ],
   "source": [
    "def f(x, y=0, *args):\n",
    "    print(x, y, args)\n",
    "    print(x, y, *args)    \n",
    "f(1,2,3,4,5)\n",
    "\n",
    "def g(x, y=0, **kwargs):\n",
    "    kwargs.setdefault('guava', 7)\n",
    "    print(x, y, kwargs)\n",
    "    print(x, y, *kwargs)\n",
    "g(1,2,apple=3,banana=4)"
   ]
  },
  {
   "cell_type": "code",
   "execution_count": null,
   "metadata": {},
   "outputs": [],
   "source": []
  }
 ],
 "metadata": {
  "kernelspec": {
   "display_name": "Python 3",
   "language": "python",
   "name": "python3"
  },
  "language_info": {
   "codemirror_mode": {
    "name": "ipython",
    "version": 3
   },
   "file_extension": ".py",
   "mimetype": "text/x-python",
   "name": "python",
   "nbconvert_exporter": "python",
   "pygments_lexer": "ipython3",
   "version": "3.6.10"
  }
 },
 "nbformat": 4,
 "nbformat_minor": 4
}
