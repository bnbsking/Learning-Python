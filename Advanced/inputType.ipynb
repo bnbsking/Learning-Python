{
 "cells": [
  {
   "cell_type": "markdown",
   "id": "surface-morgan",
   "metadata": {},
   "source": [
    "1. function input argument type is useless, just for reference\n",
    "2. For class defined as struct, the attribut argument type is useless\n",
    "    Inherited by a class with constructor + kwargs + setattr for reference only"
   ]
  },
  {
   "cell_type": "code",
   "execution_count": 70,
   "id": "immune-dubai",
   "metadata": {},
   "outputs": [
    {
     "name": "stdout",
     "output_type": "stream",
     "text": [
      "<class 'int'>\n",
      "<class 'int'>\n"
     ]
    }
   ],
   "source": [
    "def f(a:str):\n",
    "    print(type(a))\n",
    "f(5)\n",
    "\n",
    "class C0:\n",
    "    def __init__(self, **kwargs):\n",
    "        for key,val in kwargs.items():\n",
    "            setattr(self, key, val)\n",
    "\n",
    "class C(C0):\n",
    "    name: str\n",
    "\n",
    "obj = C(name=234)\n",
    "print( type(obj.name) )"
   ]
  },
  {
   "cell_type": "code",
   "execution_count": 71,
   "id": "rural-thing",
   "metadata": {},
   "outputs": [
    {
     "ename": "TypeError",
     "evalue": "object() takes no parameters",
     "output_type": "error",
     "traceback": [
      "\u001b[1;31m---------------------------------------------------------------------------\u001b[0m",
      "\u001b[1;31mTypeError\u001b[0m                                 Traceback (most recent call last)",
      "\u001b[1;32m<ipython-input-71-1f0a1500d258>\u001b[0m in \u001b[0;36m<module>\u001b[1;34m\u001b[0m\n\u001b[0;32m      1\u001b[0m \u001b[1;32mclass\u001b[0m \u001b[0mD\u001b[0m\u001b[1;33m:\u001b[0m\u001b[1;33m\u001b[0m\u001b[1;33m\u001b[0m\u001b[0m\n\u001b[0;32m      2\u001b[0m     \u001b[0mname\u001b[0m\u001b[1;33m:\u001b[0m \u001b[0mstr\u001b[0m\u001b[1;33m\u001b[0m\u001b[1;33m\u001b[0m\u001b[0m\n\u001b[1;32m----> 3\u001b[1;33m \u001b[0mobj\u001b[0m \u001b[1;33m=\u001b[0m \u001b[0mD\u001b[0m\u001b[1;33m(\u001b[0m\u001b[0mname\u001b[0m\u001b[1;33m=\u001b[0m\u001b[1;36m1\u001b[0m\u001b[1;33m)\u001b[0m\u001b[1;33m\u001b[0m\u001b[1;33m\u001b[0m\u001b[0m\n\u001b[0m",
      "\u001b[1;31mTypeError\u001b[0m: object() takes no parameters"
     ]
    }
   ],
   "source": [
    "class D:\n",
    "    name: str\n",
    "obj = D(name=1)"
   ]
  },
  {
   "cell_type": "code",
   "execution_count": null,
   "id": "recovered-indie",
   "metadata": {},
   "outputs": [],
   "source": []
  }
 ],
 "metadata": {
  "kernelspec": {
   "display_name": "Python 3",
   "language": "python",
   "name": "python3"
  },
  "language_info": {
   "codemirror_mode": {
    "name": "ipython",
    "version": 3
   },
   "file_extension": ".py",
   "mimetype": "text/x-python",
   "name": "python",
   "nbconvert_exporter": "python",
   "pygments_lexer": "ipython3",
   "version": "3.6.12"
  }
 },
 "nbformat": 4,
 "nbformat_minor": 5
}
