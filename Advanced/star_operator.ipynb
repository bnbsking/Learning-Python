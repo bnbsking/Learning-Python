{
 "cells": [
  {
   "cell_type": "code",
   "execution_count": 53,
   "metadata": {},
   "outputs": [
    {
     "data": {
      "text/plain": [
       "((3, 1, 4), (5, 9, 2))"
      ]
     },
     "execution_count": 53,
     "metadata": {},
     "output_type": "execute_result"
    }
   ],
   "source": [
    "# 0\n",
    "# zip內單星: 解壓縮\n",
    "\n",
    "A, B = [3,1,4], [5,9,2]\n",
    "Z = zip(A,B)\n",
    "C, D = zip(*Z)\n",
    "C, D"
   ]
  },
  {
   "cell_type": "code",
   "execution_count": 47,
   "metadata": {},
   "outputs": [
    {
     "name": "stdout",
     "output_type": "stream",
     "text": [
      "single--- 1 2 3 4 5 6 8 9 7 ---star\n",
      "double--- a b c ---star\n"
     ]
    }
   ],
   "source": [
    "# 1\n",
    "# 呼叫函數內單星: 轉tuple/list/set成args\n",
    "# 呼叫函數內雙星: 轉dict成args\n",
    "\n",
    "tu = (1,2,3)\n",
    "li = [4,5,6]\n",
    "se = {7,8,9}\n",
    "di = {'a':1, 'b':2, 'c':3}\n",
    "\n",
    "print('single---', *tu, *li, *se, '---star')\n",
    "print('double---', *di, '---star')"
   ]
  },
  {
   "cell_type": "code",
   "execution_count": 52,
   "metadata": {},
   "outputs": [
    {
     "name": "stdout",
     "output_type": "stream",
     "text": [
      "hello (1, 2, 3, 4, 5, 6) bobo\n",
      "hello {'name': 'bob', 'attack': 5000, 'defense': 100}\n"
     ]
    }
   ],
   "source": [
    "# 2\n",
    "# arg內單星: 給函數n個不指名args, 並以tuple封裝, 單星後可以有其他arg但一定要指名\n",
    "# arg內雙星: 給函數n個要指名args, 並以dict 封裝, 雙星後不可有其他arg\n",
    "\n",
    "def single(x, *tu, y):\n",
    "    print(x, tu, y)\n",
    "\n",
    "def double(z, **di):\n",
    "    di.setdefault('name', 'monster')\n",
    "    di.setdefault('defense', 100)\n",
    "    print(z, di)\n",
    "\n",
    "single('hello', 1,2,3,4,5,6, y='bobo')\n",
    "double('hello', name='bob', attack=5000)"
   ]
  },
  {
   "cell_type": "code",
   "execution_count": null,
   "metadata": {},
   "outputs": [],
   "source": []
  }
 ],
 "metadata": {
  "kernelspec": {
   "display_name": "Python 3",
   "language": "python",
   "name": "python3"
  },
  "language_info": {
   "codemirror_mode": {
    "name": "ipython",
    "version": 3
   },
   "file_extension": ".py",
   "mimetype": "text/x-python",
   "name": "python",
   "nbconvert_exporter": "python",
   "pygments_lexer": "ipython3",
   "version": "3.7.5"
  }
 },
 "nbformat": 4,
 "nbformat_minor": 2
}
