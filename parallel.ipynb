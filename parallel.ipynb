{
 "cells": [
  {
   "cell_type": "code",
   "execution_count": 1,
   "metadata": {},
   "outputs": [
    {
     "name": "stdout",
     "output_type": "stream",
     "text": [
      "Child thread: 0\n",
      "Main thread: 0\n",
      "Child thread: 1\n",
      "Main thread: 1\n",
      "Child thread: 2\n",
      "Main thread: 2\n",
      "Child thread: 3\n",
      "Child thread: 4\n",
      "Main thread: 3\n",
      "Main thread: 4\n",
      "Done.\n"
     ]
    }
   ],
   "source": [
    "import threading, time\n",
    "\n",
    "# 子執行緒的工作函數\n",
    "def job():\n",
    "    for i in range(5):\n",
    "        print(\"Child thread:\", i)\n",
    "        time.sleep(1)\n",
    "\n",
    "# 建立一個子執行緒\n",
    "t = threading.Thread(target = job)\n",
    "# 執行該子執行緒\n",
    "t.start()\n",
    "\n",
    "# 主執行緒繼續執行自己的工作\n",
    "for i in range(5):\n",
    "    print(\"Main thread:\", i)\n",
    "    time.sleep(1.5)\n",
    "\n",
    "# 等待 t 這個子執行緒結束\n",
    "t.join()\n",
    "print(\"Done.\")"
   ]
  },
  {
   "cell_type": "code",
   "execution_count": 2,
   "metadata": {},
   "outputs": [
    {
     "name": "stdout",
     "output_type": "stream",
     "text": [
      "0.10797524452209473\n",
      "0.25193238258361816\n"
     ]
    }
   ],
   "source": [
    "import numba, numpy, time\n",
    "from numba import jit\n",
    "\n",
    "L = numpy.random.random(100)\n",
    "M = numpy.random.random(100)\n",
    "\n",
    "def cpu(x=0):\n",
    "    for i in range(1000000):\n",
    "        x+=i\n",
    "\n",
    "@jit\n",
    "def cpu_jit(x=0):\n",
    "    for i in range(1000000):\n",
    "        x+=i\n",
    "\n",
    "s = time.time()\n",
    "cpu()\n",
    "print(time.time()-s)\n",
    "\n",
    "s = time.time()\n",
    "cpu_jit()\n",
    "print(time.time()-s)"
   ]
  },
  {
   "cell_type": "code",
   "execution_count": 3,
   "metadata": {},
   "outputs": [
    {
     "name": "stdout",
     "output_type": "stream",
     "text": [
      "<Managed Device 0>\n"
     ]
    }
   ],
   "source": [
    "from numba import cuda\n",
    "print(cuda.gpus)"
   ]
  },
  {
   "cell_type": "code",
   "execution_count": 4,
   "metadata": {},
   "outputs": [
    {
     "name": "stdout",
     "output_type": "stream",
     "text": [
      "print by cpu\n"
     ]
    }
   ],
   "source": [
    "def cpu_print():\n",
    "    print(\"print by cpu\")\n",
    "@cuda.jit\n",
    "def gpu_print():\n",
    "    print(\"print by gpu.\")\n",
    "\n",
    "gpu_print[1, 2]()\n",
    "cuda.synchronize()\n",
    "cpu_print()"
   ]
  },
  {
   "cell_type": "code",
   "execution_count": null,
   "metadata": {},
   "outputs": [],
   "source": []
  },
  {
   "cell_type": "code",
   "execution_count": null,
   "metadata": {},
   "outputs": [],
   "source": []
  }
 ],
 "metadata": {
  "kernelspec": {
   "display_name": "Python 3",
   "language": "python",
   "name": "python3"
  },
  "language_info": {
   "codemirror_mode": {
    "name": "ipython",
    "version": 3
   },
   "file_extension": ".py",
   "mimetype": "text/x-python",
   "name": "python",
   "nbconvert_exporter": "python",
   "pygments_lexer": "ipython3",
   "version": "3.7.4"
  }
 },
 "nbformat": 4,
 "nbformat_minor": 2
}
